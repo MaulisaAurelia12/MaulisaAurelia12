{
  "nbformat": 4,
  "nbformat_minor": 0,
  "metadata": {
    "colab": {
      "provenance": [],
      "authorship_tag": "ABX9TyPHF/KhgiIAISV0J+vmlrKd",
      "include_colab_link": true
    },
    "kernelspec": {
      "name": "python3",
      "display_name": "Python 3"
    },
    "language_info": {
      "name": "python"
    }
  },
  "cells": [
    {
      "cell_type": "markdown",
      "metadata": {
        "id": "view-in-github",
        "colab_type": "text"
      },
      "source": [
        "<a href=\"https://colab.research.google.com/github/MaulisaAurelia12/MaulisaAurelia12/blob/main/praktikum1_py.ipynb\" target=\"_parent\"><img src=\"https://colab.research.google.com/assets/colab-badge.svg\" alt=\"Open In Colab\"/></a>"
      ]
    },
    {
      "cell_type": "markdown",
      "source": [
        "# LAPORAN PRAKTIKUM INFRASTRUKTUR DAN PLATFORM UNTUK SAINS DATA"
      ],
      "metadata": {
        "id": "H_oMN0R8MEmM"
      }
    },
    {
      "cell_type": "markdown",
      "source": [
        "## Dasar Teori"
      ],
      "metadata": {
        "id": "mErH5gLPMcfZ"
      }
    },
    {
      "cell_type": "markdown",
      "source": [
        "### 1.Variabel dan Tipe Data\n",
        "\n",
        "variabel adalah tempat menyimpan data dalam memori dengan aturan penamaannya seperti menggunakan huruf, angka, dan underscore serta tidak boleh diawali dengan angka.\n"
      ],
      "metadata": {
        "id": "VhgH7seZReq0"
      }
    },
    {
      "cell_type": "code",
      "source": [
        "x = 13\n",
        "y = 157.6\n",
        "program_studi = 'Sains Data'"
      ],
      "metadata": {
        "id": "E9ygeku9MttK"
      },
      "execution_count": 16,
      "outputs": []
    },
    {
      "cell_type": "markdown",
      "source": [
        "terdapat beberapa jenis tipe data dalam Python yang dapat diolah, seperti:\n",
        "\n",
        "a. integer (int) : bilangan bulat\n",
        "\n",
        "b. float (float) : bilangan desimal\n",
        "\n",
        "c. string (str) : rangkaian karakter (char)\n",
        "\n",
        "d. boolean (bool) : didefinisikan dengan nilai True (1) atau False (0)"
      ],
      "metadata": {
        "id": "e2R6hQxWND71"
      }
    },
    {
      "cell_type": "code",
      "source": [
        "umur = 19 #integer\n",
        "print(type(umur))\n",
        "tinggi = 1.57 #float\n",
        "print(type(tinggi))\n",
        "nama = \"lisa\" #string\n",
        "print(type(nama))\n",
        "is_worker = False #boolean\n",
        "print(type(is_worker))"
      ],
      "metadata": {
        "colab": {
          "base_uri": "https://localhost:8080/"
        },
        "id": "Mj3akhuDN-RE",
        "outputId": "42e44469-ad5a-41d6-ddc5-20615b5ac902"
      },
      "execution_count": 18,
      "outputs": [
        {
          "output_type": "stream",
          "name": "stdout",
          "text": [
            "<class 'int'>\n",
            "<class 'float'>\n",
            "<class 'str'>\n",
            "<class 'bool'>\n"
          ]
        }
      ]
    },
    {
      "cell_type": "markdown",
      "source": [
        "### 2.Operator dan Logika\n",
        "\n",
        "Operator digunakan untuk melakukan operasi matematika dan logika. beberapa jenis operator, diantaranya:\n",
        "\n",
        "a. operator aritmatika, digunakan untuk operasi matematis\n",
        "\n",
        "- +,-,*,/ : untuk operasi penjumlahan, pengurangan, perkalian, dan pembagian\n",
        "- // : untuk pembagian bulat\n",
        "- % : untuk sisa pembagian\n",
        "- ** : untuk bilangan eksponensial\n",
        "\n",
        "b. operator perbandingan, digunakan untuk membandingkan dua nilai dengan hasil boolean\n",
        "\n",
        "- == : untuk sama dengan\n",
        "- != : untuk tidak sama dengan\n",
        "- <, >, >=, <= : untuk membandingkan dua nilai\n",
        "\n",
        "c. operator logika, digunakan untuk menggabungkan ekspresi boolean\n",
        "\n",
        "- and : bernilai true jika kedua operans bernilai true\n",
        "- or : bernilai true jika salah satu operand bernilai true\n",
        "- not : membalik nilai boolean"
      ],
      "metadata": {
        "id": "1A0PU9gQOp9H"
      }
    },
    {
      "cell_type": "code",
      "source": [],
      "metadata": {
        "id": "u3flI2quQ7nl"
      },
      "execution_count": null,
      "outputs": []
    },
    {
      "cell_type": "markdown",
      "source": [
        "### 3.Fungsi dan Perulangan\n",
        " Fungsi adalah blok kode yang bisa menerima argumen dan mengembalikan nilai. Fungsi didefinisikan menggunakan def dengan diikuti nama fungsi. Dalam Python fungsi Built-in memiliki fungsi bawaan seperti len(), sum(), max()."
      ],
      "metadata": {
        "id": "4la9h2A_R05o"
      }
    },
    {
      "cell_type": "code",
      "source": [
        "def greet(name) :\n",
        "  return f\"hello, {name}!\"\n",
        "print (greet(\"lisa\"))"
      ],
      "metadata": {
        "colab": {
          "base_uri": "https://localhost:8080/"
        },
        "id": "HEY28GmvR-Sd",
        "outputId": "4a22e87e-88c3-4c75-d258-6aa87a7b3836"
      },
      "execution_count": 1,
      "outputs": [
        {
          "output_type": "stream",
          "name": "stdout",
          "text": [
            "hello, lisa!\n"
          ]
        }
      ]
    },
    {
      "cell_type": "markdown",
      "source": [
        "Pengulangan (Loop), digunakan untuk mengiterasi elemen-elemen dalam struktur data. **For loop** ddigunakan untuk mengiterasi item dalam list, tuple, dictionary, atau range."
      ],
      "metadata": {
        "id": "lNe3GVuvpE48"
      }
    },
    {
      "cell_type": "code",
      "source": [
        "hobi = [\"bulutangkis\", \"lari\", \"memasak\"]\n",
        "for kegiatan in hobi:\n",
        "  print(kegiatan)"
      ],
      "metadata": {
        "colab": {
          "base_uri": "https://localhost:8080/"
        },
        "id": "DlIHyrFspjel",
        "outputId": "4238f424-c5a4-492b-cd9f-3e9f9e8f73f2"
      },
      "execution_count": 2,
      "outputs": [
        {
          "output_type": "stream",
          "name": "stdout",
          "text": [
            "bulutangkis\n",
            "lari\n",
            "memasak\n"
          ]
        }
      ]
    },
    {
      "cell_type": "markdown",
      "source": [
        "**While loop** digunakan untuk perulangan yang terus berjalan selama kondisi tertentu terpenuhi."
      ],
      "metadata": {
        "id": "NOLLF5emp94I"
      }
    },
    {
      "cell_type": "code",
      "source": [
        "tanggal = 2\n",
        "while tanggal <= 10:\n",
        "  print(tanggal)\n",
        "  tanggal += 1"
      ],
      "metadata": {
        "colab": {
          "base_uri": "https://localhost:8080/"
        },
        "id": "yUGz5IXpqLEI",
        "outputId": "b37ba283-143e-4c70-be1a-e8f00712b0f0"
      },
      "execution_count": 3,
      "outputs": [
        {
          "output_type": "stream",
          "name": "stdout",
          "text": [
            "2\n",
            "3\n",
            "4\n",
            "5\n",
            "6\n",
            "7\n",
            "8\n",
            "9\n",
            "10\n"
          ]
        }
      ]
    },
    {
      "cell_type": "markdown",
      "source": [
        "**List comprehension** digunakan untuk menulis loop yang menghasilkan list."
      ],
      "metadata": {
        "id": "yzwJmJGTquZb"
      }
    },
    {
      "cell_type": "code",
      "source": [
        "angka = [2, 4, 6, 8, 10]\n",
        "double = [x * 2 for x in angka]\n",
        "print(double)"
      ],
      "metadata": {
        "colab": {
          "base_uri": "https://localhost:8080/"
        },
        "id": "1u1JHGToq5tS",
        "outputId": "abe963ef-9813-4ec5-ec51-50ab650251c0"
      },
      "execution_count": 4,
      "outputs": [
        {
          "output_type": "stream",
          "name": "stdout",
          "text": [
            "[4, 8, 12, 16, 20]\n"
          ]
        }
      ]
    },
    {
      "cell_type": "markdown",
      "source": [
        "### 4.Percabangan\n",
        "\n",
        "Digunakan untuk pengambilan keputusan berdasarkan kondisi. struktur utamanya adalah if, elif, dan else untuk menjalankan blok kode tertentu jika kondisi terpenuhi."
      ],
      "metadata": {
        "id": "0NKpGCEZrKiV"
      }
    },
    {
      "cell_type": "code",
      "source": [
        "IP = 3.8\n",
        "if IP >= 4:\n",
        "  print('A')\n",
        "elif IP >= 3.0:\n",
        "  print('B')\n",
        "elif IP > 2.0:\n",
        "  print('C')\n",
        "else:\n",
        "  print('D')"
      ],
      "metadata": {
        "colab": {
          "base_uri": "https://localhost:8080/"
        },
        "id": "k_FqfnlyrsNm",
        "outputId": "af7a2f87-4720-4ae6-b68d-cd36b505510e"
      },
      "execution_count": 5,
      "outputs": [
        {
          "output_type": "stream",
          "name": "stdout",
          "text": [
            "B\n"
          ]
        }
      ]
    },
    {
      "cell_type": "markdown",
      "source": [
        "**Nested Conditionals**, merupakan percabangan di dalam percabangan (bersarang)."
      ],
      "metadata": {
        "id": "kAydyyJXsRGt"
      }
    },
    {
      "cell_type": "code",
      "source": [
        "IP = 3.8\n",
        "TAK = 50\n",
        "if IP >= 3.5:\n",
        "  if TAK >= 60:\n",
        "    print(\"memenuhi syarat wisuda\")\n",
        "  else:\n",
        "    print(\"kurang memenuhi syarat wisuda\")\n",
        "else:\n",
        "  print('B')"
      ],
      "metadata": {
        "colab": {
          "base_uri": "https://localhost:8080/"
        },
        "id": "JyiVxcjfsgNx",
        "outputId": "192ccd2d-c669-4e7f-9d24-e2322c296c7e"
      },
      "execution_count": 15,
      "outputs": [
        {
          "output_type": "stream",
          "name": "stdout",
          "text": [
            "kurang memenuhi syarat wisuda\n"
          ]
        }
      ]
    }
  ]
}